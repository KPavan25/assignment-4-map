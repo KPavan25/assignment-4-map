{
 "cells": [
  {
   "cell_type": "code",
   "execution_count": 6,
   "id": "616ace85",
   "metadata": {},
   "outputs": [
    {
     "name": "stdout",
     "output_type": "stream",
     "text": [
      "4 5 2 9\n",
      "16, 25, 4, 81, "
     ]
    }
   ],
   "source": [
    "'''Write a Python program to square the elements of a list using map() function.\n",
    "Sample List: [4, 5, 2, 9]\n",
    "Square the elements of the list:\n",
    "[16, 25, 4, 81]'''\n",
    "\n",
    "y = list(map(int,input().split()))\n",
    "num_square = map(lambda x: x**2, y)\n",
    "for y in num_square:\n",
    "    print(y,end = \", \")"
   ]
  },
  {
   "cell_type": "code",
   "execution_count": null,
   "id": "5cbae697",
   "metadata": {},
   "outputs": [],
   "source": []
  }
 ],
 "metadata": {
  "kernelspec": {
   "display_name": "Python 3 (ipykernel)",
   "language": "python",
   "name": "python3"
  },
  "language_info": {
   "codemirror_mode": {
    "name": "ipython",
    "version": 3
   },
   "file_extension": ".py",
   "mimetype": "text/x-python",
   "name": "python",
   "nbconvert_exporter": "python",
   "pygments_lexer": "ipython3",
   "version": "3.9.12"
  }
 },
 "nbformat": 4,
 "nbformat_minor": 5
}
